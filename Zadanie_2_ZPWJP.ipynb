{
  "nbformat": 4,
  "nbformat_minor": 0,
  "metadata": {
    "colab": {
      "provenance": [],
      "toc_visible": true,
      "authorship_tag": "ABX9TyM61oHbReMFiOCqX9qpcDr/",
      "include_colab_link": true
    },
    "kernelspec": {
      "name": "python3",
      "display_name": "Python 3"
    },
    "language_info": {
      "name": "python"
    }
  },
  "cells": [
    {
      "cell_type": "markdown",
      "metadata": {
        "id": "view-in-github",
        "colab_type": "text"
      },
      "source": [
        "<a href=\"https://colab.research.google.com/github/MetalHeadv3/ZPWJP-zaliczenie/blob/main/Zadanie_2_ZPWJP.ipynb\" target=\"_parent\"><img src=\"https://colab.research.google.com/assets/colab-badge.svg\" alt=\"Open In Colab\"/></a>"
      ]
    },
    {
      "cell_type": "code",
      "execution_count": 1,
      "metadata": {
        "colab": {
          "base_uri": "https://localhost:8080/"
        },
        "id": "2URe2dMWxyYX",
        "outputId": "831e691d-f491-4687-b475-8c9b8150eb1d"
      },
      "outputs": [
        {
          "output_type": "stream",
          "name": "stdout",
          "text": [
            "1. Sortowanie według tytułu rosnąco:\n",
            "[Fight Club (1999) - Rating: 8.8, Forrest Gump (1994) - Rating: 8.8, Gladiator (2000) - Rating: 8.5, Inception (2010) - Rating: 8.8, Interstellar (2014) - Rating: 8.6, Parasite (2019) - Rating: 8.6, Pulp Fiction (1994) - Rating: 8.9, The Dark Knight (2008) - Rating: 9.0, The Godfather (1972) - Rating: 9.2, The Matrix (1999) - Rating: 8.7]\n",
            "\n",
            "2. Sortowanie według roku malejąco:\n",
            "[Parasite (2019) - Rating: 8.6, Interstellar (2014) - Rating: 8.6, Inception (2010) - Rating: 8.8, The Dark Knight (2008) - Rating: 9.0, Gladiator (2000) - Rating: 8.5, The Matrix (1999) - Rating: 8.7, Fight Club (1999) - Rating: 8.8, Pulp Fiction (1994) - Rating: 8.9, Forrest Gump (1994) - Rating: 8.8, The Godfather (1972) - Rating: 9.2]\n",
            "\n",
            "3. Sortowanie według oceny rosnąco:\n",
            "[Gladiator (2000) - Rating: 8.5, Interstellar (2014) - Rating: 8.6, Parasite (2019) - Rating: 8.6, The Matrix (1999) - Rating: 8.7, Inception (2010) - Rating: 8.8, Fight Club (1999) - Rating: 8.8, Forrest Gump (1994) - Rating: 8.8, Pulp Fiction (1994) - Rating: 8.9, The Dark Knight (2008) - Rating: 9.0, The Godfather (1972) - Rating: 9.2]\n",
            "\n",
            "4. Sortowanie według oceny malejąco, potem roku rosnąco:\n",
            "[The Godfather (1972) - Rating: 9.2, The Dark Knight (2008) - Rating: 9.0, Pulp Fiction (1994) - Rating: 8.9, Forrest Gump (1994) - Rating: 8.8, Fight Club (1999) - Rating: 8.8, Inception (2010) - Rating: 8.8, The Matrix (1999) - Rating: 8.7, Interstellar (2014) - Rating: 8.6, Parasite (2019) - Rating: 8.6, Gladiator (2000) - Rating: 8.5]\n",
            "\n",
            "5. Sortowanie według długości tytułu:\n",
            "[Parasite (2019) - Rating: 8.6, Inception (2010) - Rating: 8.8, Gladiator (2000) - Rating: 8.5, The Matrix (1999) - Rating: 8.7, Fight Club (1999) - Rating: 8.8, Interstellar (2014) - Rating: 8.6, Pulp Fiction (1994) - Rating: 8.9, Forrest Gump (1994) - Rating: 8.8, The Godfather (1972) - Rating: 9.2, The Dark Knight (2008) - Rating: 9.0]\n"
          ]
        }
      ],
      "source": [
        "class Movie:\n",
        "    def __init__(self, title, year, rating):\n",
        "        self.title = title\n",
        "        self.year = year\n",
        "        self.rating = rating\n",
        "\n",
        "    def __repr__(self):\n",
        "        return f\"{self.title} ({self.year}) - Rating: {self.rating}\"\n",
        "\n",
        "movies = [\n",
        "    Movie(\"Inception\", 2010, 8.8),\n",
        "    Movie(\"The Matrix\", 1999, 8.7),\n",
        "    Movie(\"Interstellar\", 2014, 8.6),\n",
        "    Movie(\"The Godfather\", 1972, 9.2),\n",
        "    Movie(\"Pulp Fiction\", 1994, 8.9),\n",
        "    Movie(\"The Dark Knight\", 2008, 9.0),\n",
        "    Movie(\"Fight Club\", 1999, 8.8),\n",
        "    Movie(\"Forrest Gump\", 1994, 8.8),\n",
        "    Movie(\"Parasite\", 2019, 8.6),\n",
        "    Movie(\"Gladiator\", 2000, 8.5)\n",
        "]\n",
        "\n",
        "sorted_by_title = sorted(movies, key=lambda m: m.title)\n",
        "print(\"1. Sortowanie według tytułu rosnąco:\")\n",
        "print(sorted_by_title)\n",
        "\n",
        "sorted_by_year_desc = sorted(movies, key=lambda m: m.year, reverse=True)\n",
        "print(\"\\n2. Sortowanie według roku malejąco:\")\n",
        "print(sorted_by_year_desc)\n",
        "\n",
        "sorted_by_rating = sorted(movies, key=lambda m: m.rating)\n",
        "print(\"\\n3. Sortowanie według oceny rosnąco:\")\n",
        "print(sorted_by_rating)\n",
        "\n",
        "sorted_by_rating_then_year = sorted(movies, key=lambda m: (-m.rating, m.year))\n",
        "print(\"\\n4. Sortowanie według oceny malejąco, potem roku rosnąco:\")\n",
        "print(sorted_by_rating_then_year)\n",
        "\n",
        "sorted_by_title_length = sorted(movies, key=lambda m: len(m.title))\n",
        "print(\"\\n5. Sortowanie według długości tytułu:\")\n",
        "print(sorted_by_title_length)\n"
      ]
    }
  ]
}