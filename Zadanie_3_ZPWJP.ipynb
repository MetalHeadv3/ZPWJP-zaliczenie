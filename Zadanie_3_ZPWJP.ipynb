{
  "nbformat": 4,
  "nbformat_minor": 0,
  "metadata": {
    "colab": {
      "provenance": [],
      "authorship_tag": "ABX9TyNUWhG9KIFrpDdKd/48QZs5",
      "include_colab_link": true
    },
    "kernelspec": {
      "name": "python3",
      "display_name": "Python 3"
    },
    "language_info": {
      "name": "python"
    }
  },
  "cells": [
    {
      "cell_type": "markdown",
      "metadata": {
        "id": "view-in-github",
        "colab_type": "text"
      },
      "source": [
        "<a href=\"https://colab.research.google.com/github/MetalHeadv3/ZPWJP-zaliczenie/blob/main/Zadanie_3_ZPWJP.ipynb\" target=\"_parent\"><img src=\"https://colab.research.google.com/assets/colab-badge.svg\" alt=\"Open In Colab\"/></a>"
      ]
    },
    {
      "cell_type": "code",
      "execution_count": 2,
      "metadata": {
        "colab": {
          "base_uri": "https://localhost:8080/"
        },
        "id": "4FF_DADUynNi",
        "outputId": "b4274e16-25bb-48e8-ac5c-1a788b00a616"
      },
      "outputs": [
        {
          "output_type": "stream",
          "name": "stdout",
          "text": [
            "Dodawanie dwóch wektorów: Vector2D(4, 6)\n",
            "Dodawanie krotki do wektora: Vector2D(8, 10)\n",
            "Dodawanie wektora do krotki: Vector2D(8, 10)\n"
          ]
        }
      ],
      "source": [
        "class Vector2D:\n",
        "    def __init__(self, x, y):\n",
        "        self.x = x\n",
        "        self.y = y\n",
        "\n",
        "    def __add__(self, other):\n",
        "        if isinstance(other, Vector2D):\n",
        "            return Vector2D(self.x + other.x, self.y + other.y)\n",
        "        elif isinstance(other, tuple) and len(other) == 2:\n",
        "            return Vector2D(self.x + other[0], self.y + other[1])\n",
        "        else:\n",
        "            return NotImplemented\n",
        "\n",
        "    def __radd__(self, other):\n",
        "        return self.__add__(other)\n",
        "\n",
        "    def __repr__(self):\n",
        "        return f\"Vector2D({self.x}, {self.y})\"\n",
        "\n",
        "v1 = Vector2D(3, 4)\n",
        "v2 = Vector2D(1, 2)\n",
        "t = (5, 6)\n",
        "\n",
        "print(\"Dodawanie dwóch wektorów:\", v1 + v2)\n",
        "print(\"Dodawanie krotki do wektora:\", v1 + t)\n",
        "print(\"Dodawanie wektora do krotki:\", t + v1)\n"
      ]
    }
  ]
}